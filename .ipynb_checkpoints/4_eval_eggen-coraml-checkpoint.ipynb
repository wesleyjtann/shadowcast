{
 "cells": [
  {
   "cell_type": "markdown",
   "metadata": {},
   "source": [
    "## Explainable Conditional LSTM random walk graph GAN training\n",
    "Cora-ML"
   ]
  },
  {
   "cell_type": "code",
   "execution_count": 1,
   "metadata": {},
   "outputs": [
    {
     "name": "stderr",
     "output_type": "stream",
     "text": [
      "/home/wesleyjtann/miniconda3/envs/eggen/lib/python3.6/importlib/_bootstrap.py:219: RuntimeWarning: compiletime version 3.5 of module 'tensorflow.python.framework.fast_tensor_util' does not match runtime version 3.6\n",
      "  return f(*args, **kwds)\n"
     ]
    }
   ],
   "source": [
    "from eggen import utils\n",
    "from eggen.eggen_shadow import *\n",
    "\n",
    "import tensorflow as tf\n",
    "import scipy.sparse as sp\n",
    "import numpy as np\n",
    "from matplotlib import pyplot as plt\n",
    "from sklearn.metrics import roc_auc_score, average_precision_score\n",
    "import time\n",
    "import pandas as pd # data processing, CSV file I/O (e.g. pd.read_csv)\n",
    "import re\n",
    "import pickle"
   ]
  },
  {
   "cell_type": "code",
   "execution_count": 2,
   "metadata": {},
   "outputs": [
    {
     "name": "stdout",
     "output_type": "stream",
     "text": [
      "Selecting 1 largest connected components\n",
      "**** N nodes 2810, E edges: 7981.0, K classes: 7 ****\n"
     ]
    }
   ],
   "source": [
    "# ## Load data\n",
    "def load_dataset(file_name):\n",
    "    \"\"\"Load a graph from a Numpy binary file.\n",
    "    Parameters\n",
    "    ----------\n",
    "    file_name : str\n",
    "        Name of the file to load.\n",
    "    Returns\n",
    "    -------\n",
    "    graph : dict\n",
    "        Dictionary that contains:\n",
    "            * 'A' : The adjacency matrix in sparse matrix format\n",
    "            * 'X' : The attribute matrix in sparse matrix format\n",
    "            * 'z' : The ground truth class labels\n",
    "            * Further dictionaries mapping node, class and attribute IDs\n",
    "    \"\"\"\n",
    "    if not file_name.endswith('.npz'):\n",
    "        file_name += '.npz'\n",
    "    with np.load(file_name) as loader:\n",
    "        loader = dict(loader)\n",
    "        A = sp.csr_matrix((loader['adj_data'], loader['adj_indices'],\n",
    "                           loader['adj_indptr']), shape=loader['adj_shape'])\n",
    "\n",
    "        X = sp.csr_matrix((loader['attr_data'], loader['attr_indices'],\n",
    "                           loader['attr_indptr']), shape=loader['attr_shape'])\n",
    "\n",
    "        z = loader.get('labels')\n",
    "\n",
    "        graph = {\n",
    "            'A': A,\n",
    "            'X': X,\n",
    "            'z': z\n",
    "        }\n",
    "\n",
    "        idx_to_node = loader.get('idx_to_node')\n",
    "        if idx_to_node:\n",
    "            idx_to_node = idx_to_node.tolist()\n",
    "            graph['idx_to_node'] = idx_to_node\n",
    "\n",
    "        idx_to_attr = loader.get('idx_to_attr')\n",
    "        if idx_to_attr:\n",
    "            idx_to_attr = idx_to_attr.tolist()\n",
    "            graph['idx_to_attr'] = idx_to_attr\n",
    "\n",
    "        idx_to_class = loader.get('idx_to_class')\n",
    "        if idx_to_class:\n",
    "            idx_to_class = idx_to_class.tolist()\n",
    "            graph['idx_to_class'] = idx_to_class\n",
    "\n",
    "        return graph\n",
    "\n",
    "\n",
    "\n",
    "# Datasets: pubmed, dblp, cora | citeseer, cora_ml\n",
    "data_name  = \"cora_ml\" #\"cora_ml\"\n",
    "dataset = \"data/{}.npz\".format(data_name)\n",
    "g = load_dataset(dataset)\n",
    "# g = load_dataset('data/cora_ml.npz')\n",
    "A, X, z = g['A'], g['X'], g['z']\n",
    "\n",
    "# #### Adj matrix and Class data (conditions)\n",
    "cond_list = np.stack((np.arange(len(z)), z), axis=-1)\n",
    "\n",
    "\n",
    "\"\"\" Reduce input graph to a subgraph where only the nodes in largest n_components are kept. \"\"\" \n",
    "_A_obs = A\n",
    "# _A_obs = A + A.T\n",
    "_A_obs = _A_obs + _A_obs.T #\n",
    "_A_obs[_A_obs > 1] = 1\n",
    "lcc = utils.largest_connected_components(_A_obs)\n",
    "_A_obs = _A_obs[lcc,:][:,lcc]\n",
    "_N = _A_obs.shape[0]\n",
    "\n",
    "\"\"\" Get the subset of cond_list before reindexing from 0 \"\"\"\n",
    "all_nodes = np.arange(A.shape[0]) #(N nodes,)\n",
    "train_nodes = np.array(lcc) \n",
    "nontrain_nodes = np.setdiff1d(all_nodes, train_nodes) #(657,)\n",
    "nontrain = nontrain_nodes.tolist()\n",
    "subset_condlist = np.delete(cond_list, nontrain, 0)\n",
    "# reindexing the condlist subset\n",
    "subset_condlist[:,0] = np.arange(subset_condlist.shape[0])\n",
    "\n",
    "print(\"**** N nodes {:}, E edges: {:}, K classes: {:} ****\".format(_N,\n",
    "                                                                  np.count_nonzero(_A_obs.todense())/2,\n",
    "                                                                  len(np.unique(subset_condlist[:,1]))\n",
    "                                                                  ))\n",
    "\n",
    "#### Separate the edges into train, test, validation\n",
    "val_share = 0.1\n",
    "test_share = 0.05\n",
    "seed = 2020 #481516234  \n",
    "\"\"\"\n",
    "Split the edges of the adjacency matrix into train, validation and test edges and randomly samples equal amount of validation and test non-edges. \n",
    "\"\"\"\n",
    "train_ones, val_ones, val_zeros, test_ones, test_zeros = utils.train_val_test_split_adjacency(_A_obs, val_share, test_share, seed, undirected=True, connected=True, asserts=False) \n",
    "\n",
    "## EGGen\n",
    "train_graph = sp.coo_matrix((np.ones(len(train_ones)),(train_ones[:,0], train_ones[:,1]))).tocsr()\n",
    "assert (train_graph.toarray() == train_graph.toarray().T).all()\n"
   ]
  },
  {
   "cell_type": "code",
   "execution_count": 3,
   "metadata": {},
   "outputs": [
    {
     "name": "stdout",
     "output_type": "stream",
     "text": [
      "n_conds:  7\n"
     ]
    }
   ],
   "source": [
    "#### Parameters\n",
    "\"\"\" Adjustable parameters for training. \"\"\" \n",
    "# setting GPU id \n",
    "gpu_id = 0\n",
    "# setting the number of nodes\n",
    "_N = _A_obs.shape[0]\n",
    "# setting the length of random walks\n",
    "rw_len = 16 #8 #32 #\n",
    "# setting the training data batch size\n",
    "batch_size = 128 #512 #\n",
    "# getting the number of departments\n",
    "n_conds=len(np.unique(z))\n",
    "print(\"n_conds: \", n_conds)\n",
    "sample_batch = 1000 #128 #2048 #256 #512 #1024 #\n",
    "# log_num = 21 #99 #\n",
    "\n",
    "walker = utils.RandomWalker(train_graph, subset_condlist, rw_len, p=1, q=1, batch_size=batch_size, sample_batch=sample_batch)"
   ]
  },
  {
   "cell_type": "markdown",
   "metadata": {},
   "source": [
    "## Create our generative model "
   ]
  },
  {
   "cell_type": "code",
   "execution_count": 4,
   "metadata": {
    "scrolled": true
   },
   "outputs": [
    {
     "name": "stdout",
     "output_type": "stream",
     "text": [
      "intermediate:  Tensor(\"Generator/Generator.int_1/Tanh:0\", shape=(128, 50), dtype=float32)\n",
      "h:  Tensor(\"Generator/Generator.h_1/Tanh:0\", shape=(128, 50), dtype=float32)\n",
      "c:  Tensor(\"Generator/Generator.c_1/Tanh:0\", shape=(128, 50), dtype=float32)\n",
      "Generator initial_states:  1\n",
      "Initial cond:  Tensor(\"Generator/unstack:0\", shape=(128, 7), dtype=float32)\n"
     ]
    }
   ],
   "source": [
    "l2_gen=1e-7; l2_disc=5e-5 #1e-4 \n",
    "gencond_lay=[10]; gen_lay=[50]; disc_lay=[40] \n",
    "lr_gencond=0.01; lr_gen=0.0002; lr_disc=0.0002\n",
    "gencond_iters=1; gen_iters=1; disc_iters=3\n",
    "discWdown_size=128; genWdown_size=128 \n",
    "\n",
    "eggen = EGGen(_N,\n",
    "rw_len,\n",
    "walk_generator=walker,\n",
    "n_conds=n_conds,\n",
    "condgenerator_layers=gencond_lay,\n",
    "generator_layers=gen_lay,\n",
    "discriminator_layers=disc_lay,\n",
    "W_down_discriminator_size=discWdown_size,\n",
    "W_down_generator_size=genWdown_size,\n",
    "batch_size=batch_size,\n",
    "sample_batch=sample_batch,\n",
    "condition_dim=n_conds,\n",
    "gencond_iters=gencond_iters,\n",
    "gen_iters=gen_iters,\n",
    "disc_iters=disc_iters,\n",
    "wasserstein_penalty=10, #20, #\n",
    "l2_penalty_generator=l2_gen,\n",
    "l2_penalty_discriminator=l2_disc,\n",
    "lr_gencond=lr_gencond,\n",
    "lr_gen=lr_gen,\n",
    "lr_disc=lr_disc,\n",
    "noise_dim=16, #32, #\n",
    "noise_type=\"Uniform\", #\"Gaussian\", #\n",
    "temp_start=10.0, #5.0, #30.0, #\n",
    "min_temperature=0.5,\n",
    "temperature_decay=1-5e-5,\n",
    "seed=15, #seed, #\n",
    "use_gumbel=True,\n",
    "legacy_generator=False,\n",
    "gpu_id=gpu_id,\n",
    "plot_show=False\n",
    ")"
   ]
  },
  {
   "cell_type": "code",
   "execution_count": 5,
   "metadata": {},
   "outputs": [
    {
     "name": "stdout",
     "output_type": "stream",
     "text": [
      "Model:  model_best_32\n",
      "INFO:tensorflow:Restoring parameters from snapshots_shadow/model_best_32.ckpt\n"
     ]
    }
   ],
   "source": [
    "\"\"\" ===================================================================================== \"\"\"\n",
    "\n",
    "model_name = \"model_best_32\" #24, \"model_best_23\"\n",
    "print(\"Model: \", model_name)\n",
    "saver = tf.train.Saver()\n",
    "saver.restore(eggen.session, \"snapshots_shadow/\" + model_name + \".ckpt\") # "
   ]
  },
  {
   "cell_type": "markdown",
   "metadata": {},
   "source": [
    "## Generate graphs to evaluate performance "
   ]
  },
  {
   "cell_type": "code",
   "execution_count": 6,
   "metadata": {},
   "outputs": [
    {
     "name": "stdout",
     "output_type": "stream",
     "text": [
      "intermediate:  Tensor(\"Generator_1/Generator.int_1/Tanh:0\", shape=(1000, 50), dtype=float32)\n",
      "h:  Tensor(\"Generator_1/Generator.h_1/Tanh:0\", shape=(1000, 50), dtype=float32)\n",
      "c:  Tensor(\"Generator_1/Generator.c_1/Tanh:0\", shape=(1000, 50), dtype=float32)\n",
      "Generator initial_states:  1\n",
      "Initial cond:  Tensor(\"Generator_1/unstack:0\", shape=(1000, 7), dtype=float32)\n"
     ]
    }
   ],
   "source": [
    "sample_many, explain_conds = eggen.generate_discrete(1000, conds=True, rw_len=rw_len, reuse=True) "
   ]
  },
  {
   "cell_type": "code",
   "execution_count": 7,
   "metadata": {},
   "outputs": [
    {
     "name": "stdout",
     "output_type": "stream",
     "text": [
      "33\n",
      "66\n",
      "99\n",
      "total time:  19.470201015472412\n"
     ]
    }
   ],
   "source": [
    "import time\n",
    "t0 = time.time()\n",
    "\n",
    "num_paths = 100 #500\n",
    "samples = []\n",
    "for _ in range(num_paths): \n",
    "    if (_+1) % round(num_paths/3) == 0:\n",
    "        print(_+1)\n",
    "    samples.append(sample_many.eval({eggen.tau: 0.5}))\n",
    "    \n",
    "t1 = time.time()\n",
    "print(\"total time: \", t1-t0)"
   ]
  },
  {
   "cell_type": "code",
   "execution_count": 8,
   "metadata": {},
   "outputs": [],
   "source": [
    "### Assemble score matrix from the random walks\n",
    "rws = np.array(samples).reshape([-1, rw_len])\n",
    "scores_matrix = utils.score_matrix_from_random_walks(rws, _N).tocsr()\n",
    "\n",
    "A_select = sp.csr_matrix((np.ones(len(train_ones)), (train_ones[:,0], train_ones[:,1])))\n",
    "A_select = train_graph"
   ]
  },
  {
   "cell_type": "raw",
   "metadata": {
    "scrolled": false
   },
   "source": [
    "### Original graph from scores ###\n",
    "\n",
    "sampled_graph = utils.graph_from_scores(scores_matrix, A_select.sum())\n",
    "# EO = utils.edge_overlap(A_select.toarray(), sampled_graph)/A_select.sum()\n",
    "# print(\"EO: \", EO)\n",
    "\n",
    "stats = utils.compute_graph_statistics(sampled_graph) #, encoded)\n",
    "print(stats['assortativity'])\n",
    "print(stats['clustering_coefficient'])\n",
    "print(stats['cpl'])\n",
    "print(stats['gini'])\n",
    "print(stats['d_max'])\n",
    "print(stats['power_law_exp'])"
   ]
  },
  {
   "cell_type": "code",
   "execution_count": 9,
   "metadata": {},
   "outputs": [],
   "source": [
    "### Better graph from scores ###\n",
    "def graph_from_scores(scores, n_edges):\n",
    "#     scores=scores_matrix; n_edges=A_select.sum()\n",
    "\n",
    "    target_g = np.zeros(scores.shape) # initialize target graph\n",
    "    scores_int = scores.toarray().copy() # internal copy of the scores matrix\n",
    "    scores_int[np.diag_indices_from(scores_int)] = 0  # set diagonal to zero\n",
    "    N = scores.shape[0]\n",
    "#     print(\"N: \", N)\n",
    "\n",
    "    for n in np.random.choice(N, replace=False, size=N): # Iterate the nodes in random order\n",
    "        row = scores_int[n,:].copy()\n",
    "        if row.sum() == 0:\n",
    "            target = np.random.choice(N)\n",
    "    #         continue\n",
    "        else:\n",
    "            probs = row / row.sum()\n",
    "            target = np.random.choice(N, p=probs)\n",
    "    #         target = np.argmax(probs) # argmax probs\n",
    "        target_g[n, target] = 1\n",
    "        target_g[target, n] = 1\n",
    "\n",
    "    # print(target_g.sum()/2)\n",
    "    diff = (n_edges - target_g.sum())/2\n",
    "#     print(\"diff: \", diff)\n",
    "#     print(\"n_edges - N: \", n_edges/2 - N)\n",
    "    if diff > 0:   \n",
    "        triu = np.triu(scores_int) # upper triangle\n",
    "        triu[target_g > 0] = 0 # set previously assigned edge to zero\n",
    "        # print(\"triu nonzeros: \",np.count_nonzero(triu))\n",
    "\n",
    "        num_elements = np.count_nonzero(triu) #len(triu[triu>0]) \n",
    "        avg_threshold = triu.sum()/num_elements\n",
    "        tau = 1.2\n",
    "        avg_threshold = avg_threshold*tau #1.485# tune\n",
    "#         print(\"avg_threshold: \", avg_threshold)\n",
    "        triu[triu < avg_threshold] = 0 # \n",
    "#         print(\"triu nonzeros: \",np.count_nonzero(triu))\n",
    "\n",
    "        triu = triu / triu.sum() # every count divided by total sum\n",
    "        triu_ixs = np.triu_indices_from(triu) # indices\n",
    "        extra_edges = np.random.choice(triu_ixs[0].shape[0], replace=False, p=triu[triu_ixs], size=int(diff))\n",
    "    #     extra_edges = triu[triu_ixs].argsort()[-int(diff):][::-1] # choose top k based on prob\n",
    "\n",
    "        target_g[(triu_ixs[0][extra_edges], triu_ixs[1][extra_edges])] = 1\n",
    "        target_g[(triu_ixs[1][extra_edges], triu_ixs[0][extra_edges])] = 1\n",
    "\n",
    "    target_g = utils.symmetric(target_g)\n",
    "    return target_g"
   ]
  },
  {
   "cell_type": "code",
   "execution_count": 10,
   "metadata": {},
   "outputs": [
    {
     "name": "stderr",
     "output_type": "stream",
     "text": [
      "/home/wesleyjtann/miniconda3/envs/eggen/lib/python3.6/site-packages/powerlaw.py:700: RuntimeWarning: invalid value encountered in true_divide\n",
      "  (Theoretical_CDF * (1 - Theoretical_CDF))\n"
     ]
    },
    {
     "name": "stdout",
     "output_type": "stream",
     "text": [
      "-0.08121550638631311\n",
      "0.0020952921658643053\n",
      "5.2268463467071395\n",
      "0.45947556771350606\n",
      "224.0\n",
      "1.8303458975578026\n"
     ]
    }
   ],
   "source": [
    "### New graph statistics ###\n",
    "target_g = graph_from_scores(scores_matrix, A_select.sum())\n",
    "newstats = utils.compute_graph_statistics(target_g)\n",
    "\n",
    "print(newstats['assortativity'])\n",
    "print(newstats['clustering_coefficient'])\n",
    "print(newstats['cpl'])\n",
    "print(newstats['gini'])\n",
    "print(newstats['d_max'])\n",
    "print(newstats['power_law_exp'])"
   ]
  },
  {
   "cell_type": "markdown",
   "metadata": {},
   "source": [
    "### Graph stats over 5 runs"
   ]
  },
  {
   "cell_type": "code",
   "execution_count": 11,
   "metadata": {},
   "outputs": [
    {
     "name": "stdout",
     "output_type": "stream",
     "text": [
      "trial:  0\n",
      "33\n",
      "66\n",
      "99\n",
      "rws:  (100000, 16)\n"
     ]
    },
    {
     "name": "stderr",
     "output_type": "stream",
     "text": [
      "/home/wesleyjtann/miniconda3/envs/eggen/lib/python3.6/site-packages/powerlaw.py:700: RuntimeWarning: invalid value encountered in true_divide\n",
      "  (Theoretical_CDF * (1 - Theoretical_CDF))\n"
     ]
    },
    {
     "name": "stdout",
     "output_type": "stream",
     "text": [
      "Trial 0: --- 22.356707334518433 seconds ---\n",
      "stats:  {'d_max': 229.0, 'd_min': 1.0, 'd': 4.8277580071174375, 'LCC': 2810, 'wedge_count': 94343.0, 'claw_count': 2734118.0, 'triangle_count': 1659, 'square_count': 167, 'power_law_exp': 1.8290776033111555, 'gini': 0.4571380828038276, 'rel_edge_distr_entropy': 0.9465809567771357, 'assortativity': -0.0810516318643556, 'clustering_coefficient': 0.001820331090318706, 'n_components': 1, 'cpl': 5.198218233461586}\n",
      "trial:  1\n",
      "33\n",
      "66\n",
      "99\n",
      "rws:  (100000, 16)\n"
     ]
    },
    {
     "name": "stderr",
     "output_type": "stream",
     "text": [
      "/home/wesleyjtann/miniconda3/envs/eggen/lib/python3.6/site-packages/powerlaw.py:700: RuntimeWarning: invalid value encountered in true_divide\n",
      "  (Theoretical_CDF * (1 - Theoretical_CDF))\n"
     ]
    },
    {
     "name": "stdout",
     "output_type": "stream",
     "text": [
      "Trial 1: --- 22.34714365005493 seconds ---\n",
      "stats:  {'d_max': 250.0, 'd_min': 1.0, 'd': 4.8277580071174375, 'LCC': 2810, 'wedge_count': 97351.0, 'claw_count': 3236739.0, 'triangle_count': 1743, 'square_count': 176, 'power_law_exp': 1.8295333940545764, 'gini': 0.45808555300749254, 'rel_edge_distr_entropy': 0.9462880696081627, 'assortativity': -0.07571898430923082, 'clustering_coefficient': 0.0016155148746933256, 'n_components': 1, 'cpl': 5.175427483343447}\n",
      "trial:  2\n",
      "33\n",
      "66\n",
      "99\n",
      "rws:  (100000, 16)\n"
     ]
    },
    {
     "name": "stderr",
     "output_type": "stream",
     "text": [
      "/home/wesleyjtann/miniconda3/envs/eggen/lib/python3.6/site-packages/powerlaw.py:700: RuntimeWarning: invalid value encountered in true_divide\n",
      "  (Theoretical_CDF * (1 - Theoretical_CDF))\n"
     ]
    },
    {
     "name": "stdout",
     "output_type": "stream",
     "text": [
      "Trial 2: --- 21.671723127365112 seconds ---\n",
      "stats:  {'d_max': 203.0, 'd_min': 1.0, 'd': 4.8277580071174375, 'LCC': 2810, 'wedge_count': 90065.0, 'claw_count': 2125151.0, 'triangle_count': 1767, 'square_count': 192, 'power_law_exp': 1.8349102154504622, 'gini': 0.46396412844965673, 'rel_edge_distr_entropy': 0.9459418806344562, 'assortativity': -0.09080909741956121, 'clustering_coefficient': 0.0024944109853840975, 'n_components': 1, 'cpl': 5.219538620777901}\n",
      "trial:  3\n",
      "33\n",
      "66\n",
      "99\n",
      "rws:  (100000, 16)\n"
     ]
    },
    {
     "name": "stderr",
     "output_type": "stream",
     "text": [
      "/home/wesleyjtann/miniconda3/envs/eggen/lib/python3.6/site-packages/powerlaw.py:700: RuntimeWarning: invalid value encountered in true_divide\n",
      "  (Theoretical_CDF * (1 - Theoretical_CDF))\n"
     ]
    },
    {
     "name": "stdout",
     "output_type": "stream",
     "text": [
      "Trial 3: --- 22.37575101852417 seconds ---\n",
      "stats:  {'d_max': 237.0, 'd_min': 1.0, 'd': 4.8277580071174375, 'LCC': 2810, 'wedge_count': 95389.0, 'claw_count': 2908653.0, 'triangle_count': 1758, 'square_count': 188, 'power_law_exp': 1.830838067954034, 'gini': 0.45724395770670134, 'rel_edge_distr_entropy': 0.9465557806636608, 'assortativity': -0.07404191146286149, 'clustering_coefficient': 0.001813210444834774, 'n_components': 1, 'cpl': 5.157752724149246}\n",
      "trial:  4\n",
      "33\n",
      "66\n",
      "99\n",
      "rws:  (100000, 16)\n"
     ]
    },
    {
     "name": "stderr",
     "output_type": "stream",
     "text": [
      "/home/wesleyjtann/miniconda3/envs/eggen/lib/python3.6/site-packages/powerlaw.py:700: RuntimeWarning: invalid value encountered in true_divide\n",
      "  (Theoretical_CDF * (1 - Theoretical_CDF))\n"
     ]
    },
    {
     "name": "stdout",
     "output_type": "stream",
     "text": [
      "Trial 4: --- 21.991105556488037 seconds ---\n",
      "stats:  {'d_max': 229.0, 'd_min': 1.0, 'd': 4.8277580071174375, 'LCC': 2810, 'wedge_count': 94617.0, 'claw_count': 2747587.0, 'triangle_count': 1641, 'square_count': 159, 'power_law_exp': 1.8310659190796217, 'gini': 0.46012514014783656, 'rel_edge_distr_entropy': 0.9462562903031259, 'assortativity': -0.08555426576616852, 'clustering_coefficient': 0.0017917540008742217, 'n_components': 1, 'cpl': 5.186496125189876}\n",
      "avg_stats:  [-0.08143517816443553, 0.0019070442792210249, 5.187486637384412, 0.45931137242310294, 229.6, 1.8310850399699699, 0.27645584549609314, 1.0, 4.8277580071174375, 2810.0, 94353.0, 2750449.6, 1713.6, 176.4, 0.9463245955973083, 1.0]\n"
     ]
    }
   ],
   "source": [
    "dmax,dmin,deg,lcc,wc,cc,tc,sc,law,gini,rel,assrt,coe,ncomp,intra,inter,cpl,eo = ([] for i in range(18))\n",
    "num_trials = 5 #1 #\n",
    "num_paths = 100\n",
    "\n",
    "def compute_stats(samples):\n",
    "    rws = np.array(samples).reshape([-1, rw_len])\n",
    "    print(\"rws: \", rws.shape)\n",
    "    scores_matrix = utils.score_matrix_from_random_walks(rws, _N).tocsr()\n",
    "    \n",
    "    A_select = sp.csr_matrix((np.ones(len(train_ones)), (train_ones[:,0], train_ones[:,1])))\n",
    "    A_select = train_graph\n",
    "#     sampled_graph = utils.graph_from_scores(scores_matrix, A_select.sum())\n",
    "    sampled_graph = graph_from_scores(scores_matrix, A_select.sum())\n",
    "    EO = utils.edge_overlap(A_select.toarray(), sampled_graph)/A_select.sum()\n",
    "    \n",
    "    stats = utils.compute_graph_statistics(sampled_graph) #, encoded)\n",
    "    return stats, EO\n",
    "\n",
    "for trials in range(num_trials):\n",
    "    print(\"trial: \", trials)\n",
    "    start_time = time.time()\n",
    "  \n",
    "    samples = []\n",
    "    for _ in range(num_paths): #6000):\n",
    "        if (_+1) % round(num_paths/3) == 0:\n",
    "            print(_+1)\n",
    "        samples.append(sample_many.eval({eggen.tau: 0.5}))\n",
    "\n",
    "    stats, EO = compute_stats(samples)\n",
    "    print(\"Trial %i: --- %s seconds ---\" % (trials, time.time() - start_time))\n",
    "\n",
    "    dmax.append(stats['d_max'])\n",
    "    dmin.append(stats['d_min'])\n",
    "    deg.append(stats['d'])\n",
    "    lcc.append(stats['LCC'])\n",
    "    wc.append(stats['wedge_count'])\n",
    "    cc.append(stats['claw_count'])\n",
    "    tc.append(stats['triangle_count'])\n",
    "    sc.append(stats['square_count'])\n",
    "    law.append(stats['power_law_exp'])\n",
    "    gini.append(stats['gini'])\n",
    "    rel.append(stats['rel_edge_distr_entropy'])\n",
    "    assrt.append(stats['assortativity'])\n",
    "    coe.append(stats['clustering_coefficient'])\n",
    "    ncomp.append(stats['n_components'])\n",
    "    cpl.append(stats['cpl'])\n",
    "    eo.append(EO)\n",
    "\n",
    "    print(\"stats: \", stats)\n",
    "\n",
    "\n",
    "# all_stats = [dmax, dmin, deg, lcc, wc, cc, tc, sc, law, gini, rel, assrt, coe, ncomp, cpl, eo]\n",
    "# ====== ASST CLUST CPL GINI MD PLE EO ====== \n",
    "all_stats = [assrt, coe, cpl, gini, dmax, law, eo, dmin, deg, lcc, wc, cc, tc, sc, rel, ncomp]\n",
    "\n",
    "# avg_stats = [np.mean(dmax), np.mean(dmin), np.mean(deg), np.mean(lcc), np.mean(wc), np.mean(cc), np.mean(tc), np.mean(sc), np.mean(law), np.mean(gini), np.mean(rel), np.mean(assrt), np.mean(coe), np.mean(ncomp), np.mean(cpl), np.mean(eo)]\n",
    "avg_stats = [np.mean(assrt), np.mean(coe), np.mean(cpl), np.mean(gini), np.mean(dmax), np.mean(law), np.mean(eo), np.mean(dmin), np.mean(deg), np.mean(lcc), np.mean(wc), np.mean(cc), np.mean(tc), np.mean(sc), np.mean(rel), np.mean(ncomp)]\n",
    "print(\"avg_stats: \", avg_stats)\n",
    "\n",
    "\n",
    "from scipy import stats\n",
    "# stderror_stats = [stats.sem(dmax), stats.sem(dmin), stats.sem(deg), stats.sem(lcc), stats.sem(wc), stats.sem(cc), stats.sem(tc), stats.sem(sc), stats.sem(law), stats.sem(gini), stats.sem(rel), stats.sem(assrt), stats.sem(coe), stats.sem(ncomp), stats.sem(cpl), stats.sem(eo)]\n",
    "stderror_stats = [stats.sem(assrt), stats.sem(coe), stats.sem(cpl), stats.sem(gini), stats.sem(dmax), stats.sem(law), stats.sem(eo), stats.sem(dmin), stats.sem(deg), stats.sem(lcc), stats.sem(wc), stats.sem(cc), stats.sem(tc), stats.sem(sc), stats.sem(rel), stats.sem(ncomp)]\n",
    "    \n",
    "save_directory = \"./generate_stats\" #\"./snapshots_gencond\"  #\"./snapshots_gencond2\" \n",
    "# log_num = 8\n",
    "data_name  = \"coraml\" #\"EUcore\" #\n",
    "\n",
    "# save_stats = \"{}/{}_stats{}.txt\".format(save_directory, data_name, log_num)\n",
    "save_stats = \"{}/{}_{}_numpaths{}.txt\".format(save_directory, data_name, model_name, num_paths)\n",
    "\n",
    "np.savetxt(save_stats, np.c_[avg_stats ,stderror_stats , all_stats])"
   ]
  },
  {
   "cell_type": "code",
   "execution_count": null,
   "metadata": {},
   "outputs": [],
   "source": []
  }
 ],
 "metadata": {
  "kernelspec": {
   "display_name": "eggen",
   "language": "python",
   "name": "eggen"
  },
  "language_info": {
   "codemirror_mode": {
    "name": "ipython",
    "version": 3
   },
   "file_extension": ".py",
   "mimetype": "text/x-python",
   "name": "python",
   "nbconvert_exporter": "python",
   "pygments_lexer": "ipython3",
   "version": "3.6.9"
  }
 },
 "nbformat": 4,
 "nbformat_minor": 2
}
